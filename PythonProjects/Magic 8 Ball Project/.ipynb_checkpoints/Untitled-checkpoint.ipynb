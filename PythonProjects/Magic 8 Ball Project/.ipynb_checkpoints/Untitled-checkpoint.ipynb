{
 "cells": [
  {
   "cell_type": "code",
   "execution_count": 2,
   "metadata": {},
   "outputs": [
    {
     "name": "stdout",
     "output_type": "stream",
     "text": [
      "Hey if you've made it here it means you are looking for an answer to a question. Please ask it:\n"
     ]
    },
    {
     "ename": "NameError",
     "evalue": "name 'true' is not defined",
     "output_type": "error",
     "traceback": [
      "\u001b[0;31m---------------------------------------------------------------------------\u001b[0m",
      "\u001b[0;31mNameError\u001b[0m                                 Traceback (most recent call last)",
      "\u001b[0;32m<ipython-input-2-27d7e56a2ca8>\u001b[0m in \u001b[0;36m<module>\u001b[0;34m\u001b[0m\n\u001b[1;32m      4\u001b[0m \u001b[0manswers\u001b[0m \u001b[0;34m=\u001b[0m \u001b[0;34m[\u001b[0m\u001b[0;34m'IT IS CERTAIN'\u001b[0m\u001b[0;34m,\u001b[0m\u001b[0;34m'YOU MAY RELY ON IT'\u001b[0m\u001b[0;34m,\u001b[0m\u001b[0;34m'AS I SEE IT,YES'\u001b[0m\u001b[0;34m,\u001b[0m \u001b[0;34m'OUTLOOK LOOKS GOOD'\u001b[0m\u001b[0;34m,\u001b[0m\u001b[0;34m'MOST LIKELY'\u001b[0m\u001b[0;34m,\u001b[0m\u001b[0;34m'IT IS DECIDELY SO'\u001b[0m\u001b[0;34m,\u001b[0m\u001b[0;34m'WITHOUT A DOUBT'\u001b[0m\u001b[0;34m,\u001b[0m\u001b[0;34m'YES,DEFINITELY'\u001b[0m\u001b[0;34m]\u001b[0m\u001b[0;34m\u001b[0m\u001b[0;34m\u001b[0m\u001b[0m\n\u001b[1;32m      5\u001b[0m \u001b[0mprint\u001b[0m\u001b[0;34m(\u001b[0m\u001b[0;34m'Hey if you\\'ve made it here it means you are looking for an answer to a question. Please ask it:'\u001b[0m\u001b[0;34m)\u001b[0m\u001b[0;34m\u001b[0m\u001b[0;34m\u001b[0m\u001b[0m\n\u001b[0;32m----> 6\u001b[0;31m \u001b[0mQuestion\u001b[0m \u001b[0;34m=\u001b[0m \u001b[0mtrue\u001b[0m\u001b[0;34m\u001b[0m\u001b[0;34m\u001b[0m\u001b[0m\n\u001b[0m\u001b[1;32m      7\u001b[0m \u001b[0;34m\u001b[0m\u001b[0m\n\u001b[1;32m      8\u001b[0m \u001b[0;32mwhile\u001b[0m \u001b[0mQuestion\u001b[0m\u001b[0;34m:\u001b[0m\u001b[0;34m\u001b[0m\u001b[0;34m\u001b[0m\u001b[0m\n",
      "\u001b[0;31mNameError\u001b[0m: name 'true' is not defined"
     ]
    }
   ],
   "source": [
    "import random\n",
    "import sys\n",
    "\n",
    "answers = ['IT IS CERTAIN','YOU MAY RELY ON IT','AS I SEE IT,YES', 'OUTLOOK LOOKS GOOD','MOST LIKELY','IT IS DECIDELY SO','WITHOUT A DOUBT','YES,DEFINITELY']\n",
    "print('Hey if you\\'ve made it here it means you are looking for an answer to a question. Please ask it:')\n",
    "Question = True\n",
    "\n",
    "while Question:\n",
    "    raw_input()\n"
   ]
  },
  {
   "cell_type": "code",
   "execution_count": null,
   "metadata": {},
   "outputs": [],
   "source": []
  }
 ],
 "metadata": {
  "kernelspec": {
   "display_name": "Python 3",
   "language": "python",
   "name": "python3"
  },
  "language_info": {
   "codemirror_mode": {
    "name": "ipython",
    "version": 3
   },
   "file_extension": ".py",
   "mimetype": "text/x-python",
   "name": "python",
   "nbconvert_exporter": "python",
   "pygments_lexer": "ipython3",
   "version": "3.8.1"
  }
 },
 "nbformat": 4,
 "nbformat_minor": 4
}
